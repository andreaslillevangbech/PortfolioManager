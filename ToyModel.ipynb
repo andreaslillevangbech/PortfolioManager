{
 "cells": [
  {
   "cell_type": "code",
   "execution_count": 1,
   "metadata": {},
   "outputs": [],
   "source": [
    "import pandas as pd\n",
    "import numpy as np"
   ]
  },
  {
   "cell_type": "code",
   "execution_count": 2,
   "metadata": {},
   "outputs": [],
   "source": [
    "import xarray as xr"
   ]
  },
  {
   "cell_type": "code",
   "execution_count": 3,
   "metadata": {},
   "outputs": [],
   "source": [
    "from datetime import datetime\n",
    "import time, calendar\n",
    "import pandas as pd\n",
    "\n",
    "from src.config import *\n",
    "from src.constants import *\n",
    "from src.data.poloniex import Poloniex"
   ]
  },
  {
   "cell_type": "code",
   "execution_count": 4,
   "metadata": {},
   "outputs": [
    {
     "data": {
      "text/plain": [
       "Timestamp('2020-01-20 03:30:00')"
      ]
     },
     "execution_count": 4,
     "metadata": {},
     "output_type": "execute_result"
    }
   ],
   "source": [
    "start = datetime(2020, 1, 20, 3, 10)\n",
    "start = int(time.mktime(start.timetuple()) - time.timezone)\n",
    "pd.to_datetime(start + HALF_HOUR - start%HALF_HOUR, unit = 's')"
   ]
  },
  {
   "cell_type": "code",
   "execution_count": 5,
   "metadata": {},
   "outputs": [],
   "source": [
    "polo = Poloniex()\n",
    "\n",
    "start = datetime(2020, 1, 20, 3, 0)\n",
    "end= datetime(2020, 1, 20, 4, 20)\n",
    "\n",
    "start = int(time.mktime(start.timetuple()) - time.timezone)\n",
    "end= int(calendar.timegm(end.timetuple()))\n",
    "\n",
    "period = FIFTEEN_MINUTES"
   ]
  },
  {
   "cell_type": "code",
   "execution_count": 6,
   "metadata": {},
   "outputs": [],
   "source": [
    "from src.data.globaldatamatrix import HistoryManager\n",
    "mgr = HistoryManager(coin_number=4, end = end)"
   ]
  },
  {
   "cell_type": "code",
   "execution_count": 7,
   "metadata": {},
   "outputs": [],
   "source": [
    "panel = mgr.get_global_panel(start=start, end=end, period=period, features=['close', 'high', 'low'])"
   ]
  },
  {
   "cell_type": "code",
   "execution_count": 8,
   "metadata": {},
   "outputs": [],
   "source": [
    "coin = panel.coins[0].values"
   ]
  },
  {
   "cell_type": "code",
   "execution_count": 9,
   "metadata": {},
   "outputs": [],
   "source": [
    "import sqlite3\n",
    "conn = sqlite3.connect(DATABASE_DIR)\n",
    "cursor = conn.cursor()\n",
    "cursor.execute(\"select * from History\")\n",
    "df = pd.DataFrame(cursor.fetchall())\n",
    "df[0] = pd.to_datetime(df[0], unit='s')\n",
    "df.columns = [d[0] for d in cursor.description]\n",
    "conn.close()\n",
    "df = df[df.coin == coin]"
   ]
  },
  {
   "cell_type": "code",
   "execution_count": 10,
   "metadata": {},
   "outputs": [
    {
     "data": {
      "text/plain": [
       "array([0.00011567, 0.00011567, 0.00011571, 0.00011567, 0.00011569,\n",
       "       0.0001155 ])"
      ]
     },
     "execution_count": 10,
     "metadata": {},
     "output_type": "execute_result"
    }
   ],
   "source": [
    "p = panel.sel(coins=coin, features='high')\n",
    "p.values"
   ]
  },
  {
   "cell_type": "code",
   "execution_count": 11,
   "metadata": {},
   "outputs": [],
   "source": [
    "df['highh'] = df['high'].rolling(3).max()"
   ]
  },
  {
   "cell_type": "code",
   "execution_count": 12,
   "metadata": {},
   "outputs": [],
   "source": [
    "db = df[((df.date.astype(int)/10**9).apply(int))%FIFTEEN_MINUTES==0]\n",
    "db = db.highh.values"
   ]
  },
  {
   "cell_type": "code",
   "execution_count": 13,
   "metadata": {},
   "outputs": [
    {
     "data": {
      "text/plain": [
       "array([       nan, 0.00011567, 0.00011571, 0.00011567, 0.00011569,\n",
       "       0.00011558])"
      ]
     },
     "execution_count": 13,
     "metadata": {},
     "output_type": "execute_result"
    }
   ],
   "source": [
    "db"
   ]
  },
  {
   "cell_type": "code",
   "execution_count": 20,
   "metadata": {},
   "outputs": [
    {
     "data": {
      "text/plain": [
       "array([False,  True,  True, False,  True, False])"
      ]
     },
     "execution_count": 20,
     "metadata": {},
     "output_type": "execute_result"
    }
   ],
   "source": [
    "db==p.values"
   ]
  },
  {
   "cell_type": "code",
   "execution_count": 49,
   "metadata": {},
   "outputs": [
    {
     "data": {
      "text/html": [
       "<div>\n",
       "<style scoped>\n",
       "    .dataframe tbody tr th:only-of-type {\n",
       "        vertical-align: middle;\n",
       "    }\n",
       "\n",
       "    .dataframe tbody tr th {\n",
       "        vertical-align: top;\n",
       "    }\n",
       "\n",
       "    .dataframe thead th {\n",
       "        text-align: right;\n",
       "    }\n",
       "</style>\n",
       "<table border=\"1\" class=\"dataframe\">\n",
       "  <thead>\n",
       "    <tr style=\"text-align: right;\">\n",
       "      <th></th>\n",
       "      <th>date_norm</th>\n",
       "      <th>high</th>\n",
       "      <th>coin</th>\n",
       "    </tr>\n",
       "  </thead>\n",
       "  <tbody>\n",
       "    <tr>\n",
       "      <th>0</th>\n",
       "      <td>2020-01-20 03:15:00</td>\n",
       "      <td>0.000116</td>\n",
       "      <td>reversed_USDT</td>\n",
       "    </tr>\n",
       "    <tr>\n",
       "      <th>1</th>\n",
       "      <td>2020-01-20 03:15:00</td>\n",
       "      <td>0.000116</td>\n",
       "      <td>reversed_USDT</td>\n",
       "    </tr>\n",
       "    <tr>\n",
       "      <th>2</th>\n",
       "      <td>2020-01-20 03:15:00</td>\n",
       "      <td>0.000116</td>\n",
       "      <td>reversed_USDT</td>\n",
       "    </tr>\n",
       "    <tr>\n",
       "      <th>3</th>\n",
       "      <td>2020-01-20 03:30:00</td>\n",
       "      <td>0.000116</td>\n",
       "      <td>reversed_USDT</td>\n",
       "    </tr>\n",
       "    <tr>\n",
       "      <th>4</th>\n",
       "      <td>2020-01-20 03:30:00</td>\n",
       "      <td>0.000116</td>\n",
       "      <td>reversed_USDT</td>\n",
       "    </tr>\n",
       "    <tr>\n",
       "      <th>5</th>\n",
       "      <td>2020-01-20 03:30:00</td>\n",
       "      <td>0.000116</td>\n",
       "      <td>reversed_USDT</td>\n",
       "    </tr>\n",
       "    <tr>\n",
       "      <th>6</th>\n",
       "      <td>2020-01-20 03:45:00</td>\n",
       "      <td>0.000116</td>\n",
       "      <td>reversed_USDT</td>\n",
       "    </tr>\n",
       "    <tr>\n",
       "      <th>7</th>\n",
       "      <td>2020-01-20 03:45:00</td>\n",
       "      <td>0.000116</td>\n",
       "      <td>reversed_USDT</td>\n",
       "    </tr>\n",
       "    <tr>\n",
       "      <th>8</th>\n",
       "      <td>2020-01-20 03:45:00</td>\n",
       "      <td>0.000116</td>\n",
       "      <td>reversed_USDT</td>\n",
       "    </tr>\n",
       "    <tr>\n",
       "      <th>9</th>\n",
       "      <td>2020-01-20 04:00:00</td>\n",
       "      <td>0.000116</td>\n",
       "      <td>reversed_USDT</td>\n",
       "    </tr>\n",
       "    <tr>\n",
       "      <th>10</th>\n",
       "      <td>2020-01-20 04:00:00</td>\n",
       "      <td>0.000116</td>\n",
       "      <td>reversed_USDT</td>\n",
       "    </tr>\n",
       "    <tr>\n",
       "      <th>11</th>\n",
       "      <td>2020-01-20 04:00:00</td>\n",
       "      <td>0.000116</td>\n",
       "      <td>reversed_USDT</td>\n",
       "    </tr>\n",
       "    <tr>\n",
       "      <th>12</th>\n",
       "      <td>2020-01-20 04:15:00</td>\n",
       "      <td>0.000115</td>\n",
       "      <td>reversed_USDT</td>\n",
       "    </tr>\n",
       "    <tr>\n",
       "      <th>13</th>\n",
       "      <td>2020-01-20 04:15:00</td>\n",
       "      <td>0.000115</td>\n",
       "      <td>reversed_USDT</td>\n",
       "    </tr>\n",
       "    <tr>\n",
       "      <th>14</th>\n",
       "      <td>2020-01-20 04:15:00</td>\n",
       "      <td>0.000115</td>\n",
       "      <td>reversed_USDT</td>\n",
       "    </tr>\n",
       "    <tr>\n",
       "      <th>15</th>\n",
       "      <td>2020-01-20 04:30:00</td>\n",
       "      <td>0.000116</td>\n",
       "      <td>reversed_USDT</td>\n",
       "    </tr>\n",
       "    <tr>\n",
       "      <th>16</th>\n",
       "      <td>2020-01-20 03:15:00</td>\n",
       "      <td>0.000116</td>\n",
       "      <td>reversed_USDC</td>\n",
       "    </tr>\n",
       "  </tbody>\n",
       "</table>\n",
       "</div>"
      ],
      "text/plain": [
       "             date_norm      high           coin\n",
       "0  2020-01-20 03:15:00  0.000116  reversed_USDT\n",
       "1  2020-01-20 03:15:00  0.000116  reversed_USDT\n",
       "2  2020-01-20 03:15:00  0.000116  reversed_USDT\n",
       "3  2020-01-20 03:30:00  0.000116  reversed_USDT\n",
       "4  2020-01-20 03:30:00  0.000116  reversed_USDT\n",
       "5  2020-01-20 03:30:00  0.000116  reversed_USDT\n",
       "6  2020-01-20 03:45:00  0.000116  reversed_USDT\n",
       "7  2020-01-20 03:45:00  0.000116  reversed_USDT\n",
       "8  2020-01-20 03:45:00  0.000116  reversed_USDT\n",
       "9  2020-01-20 04:00:00  0.000116  reversed_USDT\n",
       "10 2020-01-20 04:00:00  0.000116  reversed_USDT\n",
       "11 2020-01-20 04:00:00  0.000116  reversed_USDT\n",
       "12 2020-01-20 04:15:00  0.000115  reversed_USDT\n",
       "13 2020-01-20 04:15:00  0.000115  reversed_USDT\n",
       "14 2020-01-20 04:15:00  0.000115  reversed_USDT\n",
       "15 2020-01-20 04:30:00  0.000116  reversed_USDT\n",
       "16 2020-01-20 03:15:00  0.000116  reversed_USDC"
      ]
     },
     "execution_count": 49,
     "metadata": {},
     "output_type": "execute_result"
    }
   ],
   "source": [
    "conn = sqlite3.connect(DATABASE_DIR)\n",
    "sql = (\"SELECT date_norm, MAX(high)\" +\n",
    "                               \" FROM (SELECT date+{period}-(date%{period})\"\n",
    "                               \" AS date_norm, high, coin FROM History)\"\n",
    "                               \" WHERE date_norm>={start} and date_norm<={end} and coin=\\\"{coin}\\\"\"\n",
    "                               \" GROUP BY date_norm\".format(\n",
    "                                    period=period,start=start,end=end,coin=coin))\n",
    "\n",
    "sql = (\"SELECT date+{period}-(date%{period})\" \n",
    "       \"AS date_norm, high, coin FROM History\".format(period=period))\n",
    "\n",
    "q = pd.read_sql_query(sql, \n",
    "                  con=conn, \n",
    "                  parse_dates=[\"date_norm\"]) #, \n",
    "         #         index_col=\"date_norm\")\n",
    "q[:17]"
   ]
  },
  {
   "cell_type": "code",
   "execution_count": 52,
   "metadata": {},
   "outputs": [
    {
     "data": {
      "text/html": [
       "<div>\n",
       "<style scoped>\n",
       "    .dataframe tbody tr th:only-of-type {\n",
       "        vertical-align: middle;\n",
       "    }\n",
       "\n",
       "    .dataframe tbody tr th {\n",
       "        vertical-align: top;\n",
       "    }\n",
       "\n",
       "    .dataframe thead th {\n",
       "        text-align: right;\n",
       "    }\n",
       "</style>\n",
       "<table border=\"1\" class=\"dataframe\">\n",
       "  <thead>\n",
       "    <tr style=\"text-align: right;\">\n",
       "      <th></th>\n",
       "      <th>date</th>\n",
       "      <th>coin</th>\n",
       "      <th>high</th>\n",
       "      <th>low</th>\n",
       "      <th>open</th>\n",
       "      <th>close</th>\n",
       "      <th>volume</th>\n",
       "      <th>quoteVolume</th>\n",
       "      <th>weightedAverage</th>\n",
       "    </tr>\n",
       "  </thead>\n",
       "  <tbody>\n",
       "    <tr>\n",
       "      <th>0</th>\n",
       "      <td>2020-01-20 03:00:00</td>\n",
       "      <td>reversed_USDT</td>\n",
       "      <td>0.000116</td>\n",
       "      <td>0.000115</td>\n",
       "      <td>0.000115</td>\n",
       "      <td>0.000116</td>\n",
       "      <td>0.723622</td>\n",
       "      <td>6265.847586</td>\n",
       "      <td>0.000115</td>\n",
       "    </tr>\n",
       "    <tr>\n",
       "      <th>1</th>\n",
       "      <td>2020-01-20 03:05:00</td>\n",
       "      <td>reversed_USDT</td>\n",
       "      <td>0.000116</td>\n",
       "      <td>0.000115</td>\n",
       "      <td>0.000115</td>\n",
       "      <td>0.000116</td>\n",
       "      <td>3.003744</td>\n",
       "      <td>25994.398273</td>\n",
       "      <td>0.000116</td>\n",
       "    </tr>\n",
       "    <tr>\n",
       "      <th>2</th>\n",
       "      <td>2020-01-20 03:10:00</td>\n",
       "      <td>reversed_USDT</td>\n",
       "      <td>0.000116</td>\n",
       "      <td>0.000116</td>\n",
       "      <td>0.000116</td>\n",
       "      <td>0.000116</td>\n",
       "      <td>10.791788</td>\n",
       "      <td>93362.643500</td>\n",
       "      <td>0.000116</td>\n",
       "    </tr>\n",
       "    <tr>\n",
       "      <th>3</th>\n",
       "      <td>2020-01-20 03:15:00</td>\n",
       "      <td>reversed_USDT</td>\n",
       "      <td>0.000116</td>\n",
       "      <td>0.000115</td>\n",
       "      <td>0.000116</td>\n",
       "      <td>0.000116</td>\n",
       "      <td>5.631459</td>\n",
       "      <td>48761.975858</td>\n",
       "      <td>0.000115</td>\n",
       "    </tr>\n",
       "    <tr>\n",
       "      <th>4</th>\n",
       "      <td>2020-01-20 03:20:00</td>\n",
       "      <td>reversed_USDT</td>\n",
       "      <td>0.000116</td>\n",
       "      <td>0.000115</td>\n",
       "      <td>0.000116</td>\n",
       "      <td>0.000116</td>\n",
       "      <td>15.775775</td>\n",
       "      <td>136448.572905</td>\n",
       "      <td>0.000116</td>\n",
       "    </tr>\n",
       "    <tr>\n",
       "      <th>5</th>\n",
       "      <td>2020-01-20 03:25:00</td>\n",
       "      <td>reversed_USDT</td>\n",
       "      <td>0.000116</td>\n",
       "      <td>0.000116</td>\n",
       "      <td>0.000116</td>\n",
       "      <td>0.000116</td>\n",
       "      <td>5.712826</td>\n",
       "      <td>49398.503834</td>\n",
       "      <td>0.000116</td>\n",
       "    </tr>\n",
       "    <tr>\n",
       "      <th>6</th>\n",
       "      <td>2020-01-20 03:30:00</td>\n",
       "      <td>reversed_USDT</td>\n",
       "      <td>0.000116</td>\n",
       "      <td>0.000116</td>\n",
       "      <td>0.000116</td>\n",
       "      <td>0.000116</td>\n",
       "      <td>2.319727</td>\n",
       "      <td>20072.264372</td>\n",
       "      <td>0.000116</td>\n",
       "    </tr>\n",
       "    <tr>\n",
       "      <th>7</th>\n",
       "      <td>2020-01-20 03:35:00</td>\n",
       "      <td>reversed_USDT</td>\n",
       "      <td>0.000116</td>\n",
       "      <td>0.000116</td>\n",
       "      <td>0.000116</td>\n",
       "      <td>0.000116</td>\n",
       "      <td>3.357451</td>\n",
       "      <td>29037.488844</td>\n",
       "      <td>0.000116</td>\n",
       "    </tr>\n",
       "    <tr>\n",
       "      <th>8</th>\n",
       "      <td>2020-01-20 03:40:00</td>\n",
       "      <td>reversed_USDT</td>\n",
       "      <td>0.000116</td>\n",
       "      <td>0.000116</td>\n",
       "      <td>0.000116</td>\n",
       "      <td>0.000116</td>\n",
       "      <td>2.055997</td>\n",
       "      <td>17785.264681</td>\n",
       "      <td>0.000116</td>\n",
       "    </tr>\n",
       "    <tr>\n",
       "      <th>9</th>\n",
       "      <td>2020-01-20 03:45:00</td>\n",
       "      <td>reversed_USDT</td>\n",
       "      <td>0.000116</td>\n",
       "      <td>0.000116</td>\n",
       "      <td>0.000116</td>\n",
       "      <td>0.000116</td>\n",
       "      <td>7.686406</td>\n",
       "      <td>66480.261137</td>\n",
       "      <td>0.000116</td>\n",
       "    </tr>\n",
       "    <tr>\n",
       "      <th>10</th>\n",
       "      <td>2020-01-20 03:50:00</td>\n",
       "      <td>reversed_USDT</td>\n",
       "      <td>0.000116</td>\n",
       "      <td>0.000116</td>\n",
       "      <td>0.000116</td>\n",
       "      <td>0.000116</td>\n",
       "      <td>3.237603</td>\n",
       "      <td>27992.582120</td>\n",
       "      <td>0.000116</td>\n",
       "    </tr>\n",
       "    <tr>\n",
       "      <th>11</th>\n",
       "      <td>2020-01-20 03:55:00</td>\n",
       "      <td>reversed_USDT</td>\n",
       "      <td>0.000116</td>\n",
       "      <td>0.000115</td>\n",
       "      <td>0.000116</td>\n",
       "      <td>0.000115</td>\n",
       "      <td>8.691586</td>\n",
       "      <td>75283.693264</td>\n",
       "      <td>0.000115</td>\n",
       "    </tr>\n",
       "    <tr>\n",
       "      <th>12</th>\n",
       "      <td>2020-01-20 04:00:00</td>\n",
       "      <td>reversed_USDT</td>\n",
       "      <td>0.000115</td>\n",
       "      <td>0.000115</td>\n",
       "      <td>0.000115</td>\n",
       "      <td>0.000115</td>\n",
       "      <td>10.120974</td>\n",
       "      <td>87844.216740</td>\n",
       "      <td>0.000115</td>\n",
       "    </tr>\n",
       "    <tr>\n",
       "      <th>13</th>\n",
       "      <td>2020-01-20 04:05:00</td>\n",
       "      <td>reversed_USDT</td>\n",
       "      <td>0.000115</td>\n",
       "      <td>0.000115</td>\n",
       "      <td>0.000115</td>\n",
       "      <td>0.000115</td>\n",
       "      <td>4.932649</td>\n",
       "      <td>42756.377323</td>\n",
       "      <td>0.000115</td>\n",
       "    </tr>\n",
       "    <tr>\n",
       "      <th>14</th>\n",
       "      <td>2020-01-20 04:10:00</td>\n",
       "      <td>reversed_USDT</td>\n",
       "      <td>0.000115</td>\n",
       "      <td>0.000115</td>\n",
       "      <td>0.000115</td>\n",
       "      <td>0.000115</td>\n",
       "      <td>3.362181</td>\n",
       "      <td>29116.958688</td>\n",
       "      <td>0.000115</td>\n",
       "    </tr>\n",
       "    <tr>\n",
       "      <th>15</th>\n",
       "      <td>2020-01-20 04:15:00</td>\n",
       "      <td>reversed_USDT</td>\n",
       "      <td>0.000116</td>\n",
       "      <td>0.000115</td>\n",
       "      <td>0.000115</td>\n",
       "      <td>0.000116</td>\n",
       "      <td>1.038920</td>\n",
       "      <td>8998.466558</td>\n",
       "      <td>0.000115</td>\n",
       "    </tr>\n",
       "  </tbody>\n",
       "</table>\n",
       "</div>"
      ],
      "text/plain": [
       "                  date           coin      high       low      open     close  \\\n",
       "0  2020-01-20 03:00:00  reversed_USDT  0.000116  0.000115  0.000115  0.000116   \n",
       "1  2020-01-20 03:05:00  reversed_USDT  0.000116  0.000115  0.000115  0.000116   \n",
       "2  2020-01-20 03:10:00  reversed_USDT  0.000116  0.000116  0.000116  0.000116   \n",
       "3  2020-01-20 03:15:00  reversed_USDT  0.000116  0.000115  0.000116  0.000116   \n",
       "4  2020-01-20 03:20:00  reversed_USDT  0.000116  0.000115  0.000116  0.000116   \n",
       "5  2020-01-20 03:25:00  reversed_USDT  0.000116  0.000116  0.000116  0.000116   \n",
       "6  2020-01-20 03:30:00  reversed_USDT  0.000116  0.000116  0.000116  0.000116   \n",
       "7  2020-01-20 03:35:00  reversed_USDT  0.000116  0.000116  0.000116  0.000116   \n",
       "8  2020-01-20 03:40:00  reversed_USDT  0.000116  0.000116  0.000116  0.000116   \n",
       "9  2020-01-20 03:45:00  reversed_USDT  0.000116  0.000116  0.000116  0.000116   \n",
       "10 2020-01-20 03:50:00  reversed_USDT  0.000116  0.000116  0.000116  0.000116   \n",
       "11 2020-01-20 03:55:00  reversed_USDT  0.000116  0.000115  0.000116  0.000115   \n",
       "12 2020-01-20 04:00:00  reversed_USDT  0.000115  0.000115  0.000115  0.000115   \n",
       "13 2020-01-20 04:05:00  reversed_USDT  0.000115  0.000115  0.000115  0.000115   \n",
       "14 2020-01-20 04:10:00  reversed_USDT  0.000115  0.000115  0.000115  0.000115   \n",
       "15 2020-01-20 04:15:00  reversed_USDT  0.000116  0.000115  0.000115  0.000116   \n",
       "\n",
       "       volume    quoteVolume  weightedAverage  \n",
       "0    0.723622    6265.847586         0.000115  \n",
       "1    3.003744   25994.398273         0.000116  \n",
       "2   10.791788   93362.643500         0.000116  \n",
       "3    5.631459   48761.975858         0.000115  \n",
       "4   15.775775  136448.572905         0.000116  \n",
       "5    5.712826   49398.503834         0.000116  \n",
       "6    2.319727   20072.264372         0.000116  \n",
       "7    3.357451   29037.488844         0.000116  \n",
       "8    2.055997   17785.264681         0.000116  \n",
       "9    7.686406   66480.261137         0.000116  \n",
       "10   3.237603   27992.582120         0.000116  \n",
       "11   8.691586   75283.693264         0.000115  \n",
       "12  10.120974   87844.216740         0.000115  \n",
       "13   4.932649   42756.377323         0.000115  \n",
       "14   3.362181   29116.958688         0.000115  \n",
       "15   1.038920    8998.466558         0.000115  "
      ]
     },
     "execution_count": 52,
     "metadata": {},
     "output_type": "execute_result"
    }
   ],
   "source": [
    "sql = (\"SELECT * FROM History WHERE coin=\\\"{coin}\\\"\".format(coin=coin))\n",
    "q = pd.read_sql_query(sql, \n",
    "                  con=conn, \n",
    "                  parse_dates=[\"date\"]) #, \n",
    "         #         index_col=\"date_norm\")\n",
    "q"
   ]
  },
  {
   "cell_type": "code",
   "execution_count": 53,
   "metadata": {},
   "outputs": [
    {
     "data": {
      "text/plain": [
       "DatetimeIndex(['2020-01-20 03:00:00', '2020-01-20 03:15:00',\n",
       "               '2020-01-20 03:30:00', '2020-01-20 03:45:00',\n",
       "               '2020-01-20 04:00:00', '2020-01-20 04:15:00'],\n",
       "              dtype='datetime64[ns]', freq=None)"
      ]
     },
     "execution_count": 53,
     "metadata": {},
     "output_type": "execute_result"
    }
   ],
   "source": [
    "time_index = pd.to_datetime(list(range(start, end+1, FIFTEEN_MINUTES)),unit='s')\n",
    "time_index\n"
   ]
  },
  {
   "cell_type": "code",
   "execution_count": null,
   "metadata": {},
   "outputs": [],
   "source": []
  },
  {
   "cell_type": "code",
   "execution_count": null,
   "metadata": {},
   "outputs": [],
   "source": []
  },
  {
   "cell_type": "code",
   "execution_count": null,
   "metadata": {},
   "outputs": [],
   "source": []
  },
  {
   "cell_type": "code",
   "execution_count": null,
   "metadata": {},
   "outputs": [],
   "source": []
  },
  {
   "cell_type": "code",
   "execution_count": null,
   "metadata": {},
   "outputs": [],
   "source": []
  },
  {
   "cell_type": "code",
   "execution_count": null,
   "metadata": {},
   "outputs": [],
   "source": []
  },
  {
   "cell_type": "code",
   "execution_count": null,
   "metadata": {},
   "outputs": [],
   "source": [
    "# for coin in mgr.select_coins(start=start , end=end):\n",
    "#     mgr.update_data(start=start, end=end, coin=coin)"
   ]
  },
  {
   "cell_type": "code",
   "execution_count": null,
   "metadata": {},
   "outputs": [],
   "source": [
    "import sqlite3\n",
    "conn = sqlite3.connect(DATABASE_DIR)\n",
    "cursor = conn.cursor()\n",
    "cursor.execute(\"SELECT name FROM sqlite_master WHERE type='table';\")\n",
    "print(cursor.fetchall())"
   ]
  },
  {
   "cell_type": "code",
   "execution_count": null,
   "metadata": {},
   "outputs": [],
   "source": [
    "coin = mgr.select_coins(start, end)[0]\n",
    "print(coin)\n",
    "sqlll = (\"SELECT date+300 AS date_norm, close FROM History WHERE\"\n",
    "                               \" date_norm>={start} and date_norm<={end}\" \n",
    "                               \" and date_norm%{period}=0 and coin=\\\"{coin}\\\"\".format(   # Should always give date_norm%period=0 as we subtract the residual from the input dates\n",
    "                               start=start, end=end, period=period, coin=coin))\n",
    "sql = (\"SELECT date+{period} AS date_norm, open FROM History WHERE\"\n",
    "                               \" date_norm>={start} and date_norm<={end}\" \n",
    "                               \" and date_norm%{period}=0 and coin=\\\"{coin}\\\"\".format(\n",
    "                               start=start, end=end, period=period, coin=coin))\n",
    "\n",
    "serial_data = pd.read_sql_query(sql, con=conn,\n",
    "                                                    parse_dates=[\"date_norm\"],\n",
    "                                                    index_col=\"date_norm\")\n",
    "serial_data"
   ]
  },
  {
   "cell_type": "code",
   "execution_count": null,
   "metadata": {},
   "outputs": [],
   "source": [
    "cursor.execute(\"SELECT * from History WHERE coin=\\\"{coin}\\\"\".format(coin=coin))\n",
    "df = pd.DataFrame(data = cursor.fetchall())\n",
    "df[0] = pd.to_datetime(df[0], unit = 's')\n",
    "df"
   ]
  },
  {
   "cell_type": "code",
   "execution_count": null,
   "metadata": {},
   "outputs": [],
   "source": [
    "chart = polo.marketChart(period=FIVE_MINUTES, start=start, end=end, pair = 'BTC_' + coin)\n",
    "chart = pd.DataFrame(chart)\n",
    "chart.date = pd.to_datetime(chart.date, unit = 's')\n",
    "chart"
   ]
  },
  {
   "cell_type": "code",
   "execution_count": null,
   "metadata": {},
   "outputs": [],
   "source": [
    "mgr.select_coins(start,end)"
   ]
  },
  {
   "cell_type": "code",
   "execution_count": null,
   "metadata": {},
   "outputs": [],
   "source": []
  },
  {
   "cell_type": "code",
   "execution_count": null,
   "metadata": {},
   "outputs": [],
   "source": []
  },
  {
   "cell_type": "code",
   "execution_count": null,
   "metadata": {},
   "outputs": [],
   "source": []
  },
  {
   "cell_type": "code",
   "execution_count": null,
   "metadata": {},
   "outputs": [],
   "source": []
  },
  {
   "cell_type": "code",
   "execution_count": null,
   "metadata": {},
   "outputs": [],
   "source": []
  },
  {
   "cell_type": "code",
   "execution_count": null,
   "metadata": {},
   "outputs": [],
   "source": []
  },
  {
   "cell_type": "code",
   "execution_count": null,
   "metadata": {},
   "outputs": [],
   "source": []
  },
  {
   "cell_type": "code",
   "execution_count": null,
   "metadata": {},
   "outputs": [],
   "source": [
    "import tensorflow as tf\n",
    "import numpy as np"
   ]
  },
  {
   "cell_type": "code",
   "execution_count": null,
   "metadata": {},
   "outputs": [],
   "source": [
    "class Cash(tf.keras.Model):\n",
    "\n",
    "    def __init__(self):\n",
    "        super(Cash, self).__init__()\n",
    "\n",
    "        self.dense = tf.keras.layers.Dense(5, activation='relu')\n",
    " \n",
    "        self.b = tf.Variable(tf.zeros((1, 1), dtype=tf.float32), trainable=True)\n",
    "        self.out = tf.keras.layers.Activation('softmax')\n",
    "\n",
    "    def call(self, x):\n",
    "        x = self.dense(x)\n",
    "        bias = tf.tile(self.b, [tf.shape(x)[0], 1])\n",
    "        x = tf.concat((bias, x), axis = -1)\n",
    "        x = self.out(x)\n",
    "        \n",
    "        return x\n",
    "    \n",
    "    \n",
    "model = Cash()\n",
    "\n",
    "X = np.random.randn(100, 3)\n",
    "with tf.GradientTape() as tape:\n",
    "    y = model(X)\n",
    "\n",
    "print([var.name for var in tape.watched_variables()])\n",
    "grads = tape.gradient(y, model.trainable_variables)"
   ]
  },
  {
   "cell_type": "code",
   "execution_count": null,
   "metadata": {},
   "outputs": [],
   "source": [
    "class Cash(tf.keras.Model):\n",
    "\n",
    "    def __init__(self, rows = 11, cols = 50, features = 3):\n",
    "        super(Cash, self).__init__()\n",
    "        \n",
    "        input_shape = (rows, cols, features)\n",
    "        inputs = tf.keras.Input(shape=input_shape)\n",
    "        x = tf.keras.layers.Conv2D(\n",
    "            filters = 2, \n",
    "            kernel_size = (1,3), \n",
    "            padding='valid', \n",
    "            activation='relu',\n",
    "            name = 'conv1'\n",
    "        )(inputs)\n",
    "        x = tf.keras.layers.Conv2D(1, \n",
    "                                (1, x.shape[2]), \n",
    "                                activation=\"relu\", \n",
    "                                name = 'conv2')(x)\n",
    "        x = tf.squeeze(x)\n",
    "        \n",
    "        self.model = tf.keras.Model(inputs = inputs, outputs = x)\n",
    "        \n",
    "        self.b = tf.Variable(tf.zeros((1, 1), dtype=tf.float32), trainable=True)\n",
    "        self.out = tf.keras.layers.Activation('softmax')\n",
    "\n",
    "    def call(self, x):\n",
    "        x = self.model(x)\n",
    "        print(x.shape)\n",
    "        bias = tf.tile(self.b, [tf.shape(x)[0], 1])\n",
    "        x = tf.concat((bias, x), axis = -1)\n",
    "        x = self.out(x)\n",
    "        \n",
    "        return x\n",
    "    \n",
    "    \n",
    "model = Cash()\n",
    "\n",
    "X = np.random.randn(100, 11, 50, 3)\n",
    "with tf.GradientTape() as tape:\n",
    "    y = model(X)\n",
    "\n",
    "print([var.name for var in tape.watched_variables()])\n",
    "grads = tape.gradient(y, model.trainable_variables)"
   ]
  },
  {
   "cell_type": "code",
   "execution_count": null,
   "metadata": {},
   "outputs": [],
   "source": [
    "batch = 100\n",
    "dense = tf.keras.layers.Dense(5, activation='relu')\n",
    "b = tf.Variable(tf.zeros((1,1), dtype=tf.float32), name='b', trainable=True)\n",
    "\n",
    "x =  tf.random.normal((batch, 3))\n",
    "with tf.GradientTape() as tape:\n",
    "    y = dense(x)\n",
    "    cash = tf.tile(b, [y.shape[0], 1])\n",
    "    y = tf.concat((cash, y), axis = -1)\n",
    "    y = tf.keras.layers.Activation('softmax')(y)\n",
    "\n",
    "print([var.name for var in tape.watched_variables()])\n",
    "grads = tape.gradient(y, [b, dense.trainable_variables])\n",
    "grads"
   ]
  },
  {
   "cell_type": "code",
   "execution_count": null,
   "metadata": {},
   "outputs": [],
   "source": []
  },
  {
   "cell_type": "code",
   "execution_count": null,
   "metadata": {},
   "outputs": [],
   "source": [
    "def CNN(rows, cols, features, batch_size):\n",
    "    input_shape = (rows, cols, features)\n",
    "    X = keras.Input(shape= input_shape, batch_size=batch_size)\n",
    "    w = keras.Input(shape = (rows, 1, 1), batch_size=batch_size)\n",
    "\n",
    "    x = tf.keras.layers.Conv2D(\n",
    "        filters = 2, \n",
    "        kernel_size = (1,3), \n",
    "        padding='valid', \n",
    "        activation='relu'\n",
    "    )(X)\n",
    "        \n",
    "    x = keras.layers.Conv2D(20, \n",
    "                            (1, x.shape[2]), \n",
    "                            activation=\"relu\", \n",
    "                            name = 'conv2')(x)  \n",
    "    \n",
    "    con = keras.layers.Concatenate(axis=3)([x, w])\n",
    "\n",
    "    x = keras.layers.Conv2D(1, (1,1), name = 'votes')(con)\n",
    "    x = tf.squeeze(x)\n",
    "    \n",
    "    b = tf.tile(b, [x.shape[0], 1])\n",
    "    with_bias = keras.layers.Concatenate(axis=1)([b, x])\n",
    "    #with_bias = CashBias()(x)\n",
    "\n",
    "    outputs = keras.layers.Activation('softmax')(with_bias)\n",
    "    return keras.Model(inputs = [X, w], outputs = outputs, name = \"Policy\")"
   ]
  },
  {
   "cell_type": "code",
   "execution_count": null,
   "metadata": {},
   "outputs": [],
   "source": []
  },
  {
   "cell_type": "code",
   "execution_count": null,
   "metadata": {},
   "outputs": [],
   "source": []
  },
  {
   "cell_type": "code",
   "execution_count": null,
   "metadata": {},
   "outputs": [],
   "source": [
    "import tensorflow as tf\n",
    "from tensorflow import keras\n",
    "from tensorflow.keras import layers\n",
    "import numpy as np"
   ]
  },
  {
   "cell_type": "code",
   "execution_count": null,
   "metadata": {},
   "outputs": [],
   "source": [
    "inputs = keras.Input(shape=(784,), name=\"digits\")\n",
    "x1 = layers.Dense(64, activation=\"relu\")(inputs)\n",
    "x2 = layers.Dense(64, activation=\"relu\")(x1)\n",
    "outputs = layers.Dense(10, name=\"predictions\")(x2)\n",
    "model = keras.Model(inputs=inputs, outputs=outputs)"
   ]
  },
  {
   "cell_type": "code",
   "execution_count": null,
   "metadata": {},
   "outputs": [],
   "source": [
    "# Instantiate an optimizer.\n",
    "optimizer = keras.optimizers.SGD(learning_rate=1e-3)\n",
    "# Instantiate a loss function.\n",
    "loss_fn = keras.losses.SparseCategoricalCrossentropy(from_logits=True)"
   ]
  },
  {
   "cell_type": "code",
   "execution_count": null,
   "metadata": {},
   "outputs": [],
   "source": [
    "# Prepare the training dataset.\n",
    "batch_size = 64\n",
    "(x_train, y_train), (x_test, y_test) = keras.datasets.mnist.load_data()\n",
    "x_train = np.reshape(x_train, (-1, 784))\n",
    "x_test = np.reshape(x_train, (-1, 784))\n",
    "train_dataset = tf.data.Dataset.from_tensor_slices((x_train, y_train))\n",
    "train_dataset = train_dataset.shuffle(buffer_size=1024).batch(batch_size)"
   ]
  },
  {
   "cell_type": "code",
   "execution_count": null,
   "metadata": {},
   "outputs": [],
   "source": [
    "for (x, y) in train_dataset:\n",
    "\n",
    "    with tf.GradientTape() as tape:\n",
    "\n",
    "        # Run the forward pass of the layer.\n",
    "        # The operations that the layer applies\n",
    "        # to its inputs are going to be recorded\n",
    "        # on the GradientTape.\n",
    "        logits = model(x, training=True)  # Logits for this minibatch\n",
    "\n",
    "        # Compute the loss value for this minibatch.\n",
    "        loss_value = loss_fn(y, logits)\n",
    "\n",
    "    # Use the gradient tape to automatically retrieve\n",
    "    # the gradients of the trainable variables with respect to the loss.\n",
    "    grads = tape.gradient(loss_value, model.trainable_weights)\n",
    "\n",
    "    # Run one step of gradient descent by updating\n",
    "    # the value of the variables to minimize the loss.\n",
    "    # optimizer.apply_gradients(zip(grads, model.trainable_weights))\n",
    "    shapes = [grad.shape for grad in grads]\n",
    "    print(shapes)\n",
    "    print(model.trainable_variables)\n",
    "    break"
   ]
  },
  {
   "cell_type": "code",
   "execution_count": null,
   "metadata": {},
   "outputs": [],
   "source": [
    "a = [np.random.rand(2,3) for i in range(10)]"
   ]
  },
  {
   "cell_type": "code",
   "execution_count": null,
   "metadata": {},
   "outputs": [],
   "source": [
    "np.array(a, dtype='float32').dtype"
   ]
  },
  {
   "cell_type": "code",
   "execution_count": null,
   "metadata": {},
   "outputs": [],
   "source": []
  }
 ],
 "metadata": {
  "kernelspec": {
   "display_name": "Python 3",
   "language": "python",
   "name": "python3"
  },
  "language_info": {
   "codemirror_mode": {
    "name": "ipython",
    "version": 3
   },
   "file_extension": ".py",
   "mimetype": "text/x-python",
   "name": "python",
   "nbconvert_exporter": "python",
   "pygments_lexer": "ipython3",
   "version": "3.8.5"
  }
 },
 "nbformat": 4,
 "nbformat_minor": 4
}
